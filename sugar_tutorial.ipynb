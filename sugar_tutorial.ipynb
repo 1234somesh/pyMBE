{
 "cells": [
  {
   "cell_type": "markdown",
   "metadata": {},
   "source": [
    " # Sugar tutorial\n",
    "\n",
    "\n",
    "\n"
   ]
  },
  {
   "cell_type": "markdown",
   "metadata": {},
   "source": [
    "The objective of Sugar library is to provide a set of handy tools to facilitate the setup of simulations of polyelectrolytes and peptides with the Molecular Dynamics software ESPResSo. In other words: adding sugar to your ESPResSo scripts makes your life sweater. In this tutorial, the different functionalities of sugar are explained with different practical examples."
   ]
  },
  {
   "cell_type": "markdown",
   "metadata": {},
   "source": [
    "## Table of contents:\n",
    "* [Introduction](#introduction)\n",
    "* [Use Sugar to create particles in ESPResSo](#particles)\n",
    "* [Use Sugar to create polymers in ESPResSo](#polymers)\n",
    "* [Use Sugar to create peptides in ESPResSo](#peptides)"
   ]
  },
  {
   "cell_type": "markdown",
   "metadata": {},
   "source": [
    "## Introduction <a class=\"anchor\" id=\"introduction\"></a>"
   ]
  },
  {
   "cell_type": "markdown",
   "metadata": {},
   "source": [
    "Let us get started by importing sugar library and creating an instance of it. "
   ]
  },
  {
   "cell_type": "code",
   "execution_count": 1,
   "metadata": {},
   "outputs": [],
   "source": [
    "import sugar\n",
    "sg=sugar.sugar_library()"
   ]
  },
  {
   "cell_type": "markdown",
   "metadata": {},
   "source": [
    "When sugar is inicialitated, a default system of reduced units is defined. The active set of reduced units can be consulted using"
   ]
  },
  {
   "cell_type": "code",
   "execution_count": 2,
   "metadata": {},
   "outputs": [
    {
     "name": "stdout",
     "output_type": "stream",
     "text": [
      "\n",
      "Current set of reduced units:\n",
      "0.355 nanometer = 1 reduced_length\n",
      "4.11640356238e-21 joule = 1 reduced_energy\n",
      "Temperature: 298.15 kelvin\n",
      "1.602176634e-19 coulomb = 1 reduced_charge\n",
      "\n"
     ]
    }
   ],
   "source": [
    "sg.print_reduced_units()"
   ]
  },
  {
   "cell_type": "markdown",
   "metadata": {},
   "source": [
    "This default definition of reduced units can be changed at the convience of the user using the command"
   ]
  },
  {
   "cell_type": "code",
   "execution_count": 3,
   "metadata": {},
   "outputs": [
    {
     "name": "stdout",
     "output_type": "stream",
     "text": [
      "\n",
      "Current set of reduced units:\n",
      "0.49999999999999994 nanometer = 1 reduced_length\n",
      "4.141945559999999e-21 joule = 1 reduced_energy\n",
      "Temperature: 300 kelvin\n",
      "3.204353268e-19 coulomb = 1 reduced_charge\n",
      "\n"
     ]
    }
   ],
   "source": [
    "sg.set_reduced_units(unit_length=0.5*sg.units.nm,  unit_charge=2*sg.units.e, temperature=300 * sg.units.K)"
   ]
  },
  {
   "cell_type": "markdown",
   "metadata": {},
   "source": [
    "All input variables will be given to ESPResSo using these reduced units, since it is a convinient choice for the simulation setup. Internally, Sugar uses Pint library to deal with unit transformations, which in turn should be  used by the user to define its own variables"
   ]
  },
  {
   "cell_type": "code",
   "execution_count": 4,
   "metadata": {},
   "outputs": [
    {
     "name": "stdout",
     "output_type": "stream",
     "text": [
      "The side of the simulation box is  7 nanometer = 13.999999999999998 reduced_length\n"
     ]
    }
   ],
   "source": [
    "Box_L = 7 * sg.units.nm\n",
    "\n",
    "print('The side of the simulation box is ', Box_L, '=' ,Box_L.to('reduced_length'))\n",
    "\n",
    "import espressomd\n",
    "\n",
    "# Create an instance of an ESPResSo system \n",
    "\n",
    "system=espressomd.System(box_l=[Box_L.to('reduced_length').magnitude]*3)"
   ]
  },
  {
   "cell_type": "markdown",
   "metadata": {},
   "source": [
    "## Use Sugar to create particles in ESPResSo <a class=\"anchor\" id=\"particles\"></a>"
   ]
  },
  {
   "cell_type": "markdown",
   "metadata": {},
   "source": [
    "Particles are the smaller objects in the simulation box, which can represent small ions or other small chemical species. In turn, particles can also be used as building blocks for larger molecules or polymers, where they can represent one monomeric unit or part of it. Particle objects are used in sugar as input for several of its funcionalities, including to create larger molecules and peptides. The basic properties of a particle are:"
   ]
  },
  {
   "cell_type": "code",
   "execution_count": 5,
   "metadata": {},
   "outputs": [
    {
     "name": "stdout",
     "output_type": "stream",
     "text": [
      "label for the particle Na\n",
      "type of the particle to be identified within espresso 0\n",
      "charge of the particle 1\n",
      "diameter of the particle 0.35 nanometer\n",
      "epsilon of the particle 1 reduced_energy\n"
     ]
    }
   ],
   "source": [
    "\n",
    "cation=sg.particle(name='Na', \n",
    "                   type=0, \n",
    "                   q=1, \n",
    "                   diameter=0.35*sg.units.nm, \n",
    "                   epsilon=1*sg.units('reduced_energy'))\n",
    "\n",
    "print('label for the particle', cation.name)\n",
    "print('type of the particle to be identified within espresso', cation.type)\n",
    "print('charge of the particle', cation.q)\n",
    "\n",
    "# These parameters are only requiered for posterior setting up of Lennard-Jones interactions \n",
    "\n",
    "print('diameter of the particle', cation.diameter)\n",
    "print('epsilon of the particle', cation.epsilon)\n"
   ]
  },
  {
   "cell_type": "markdown",
   "metadata": {},
   "source": [
    "One can use sugar to create any number of the defined particles into the espresso system"
   ]
  },
  {
   "cell_type": "code",
   "execution_count": 6,
   "metadata": {},
   "outputs": [],
   "source": [
    "N_cations=20\n",
    "\n",
    "for _ in range(N_cations):\n",
    "    sg.create_object_in_system(object=cation, system=system)"
   ]
  },
  {
   "cell_type": "markdown",
   "metadata": {},
   "source": [
    "Let us see the particles that we have created by visualizing our espresso system"
   ]
  },
  {
   "cell_type": "code",
   "execution_count": 7,
   "metadata": {},
   "outputs": [],
   "source": [
    "picture_name='cation_system.png'\n",
    "sg.do_snapshot_system(system=system, filename=picture_name)\n",
    "\n",
    "# To show the picture\n",
    "from PIL import Image\n",
    "img = Image.open(picture_name)\n",
    "img.show()\n",
    "\n",
    "# To clean-up the system before continuing the tutorial\n",
    "sg.destroy_object_in_system(object=cation, system=system)"
   ]
  },
  {
   "cell_type": "markdown",
   "metadata": {},
   "source": [
    "## Use Sugar to create polymers in ESPResSo <a class=\"anchor\" id=\"polymers\"></a>"
   ]
  },
  {
   "cell_type": "markdown",
   "metadata": {},
   "source": [
    "Sugar can be used to easily construct coarse-grained models of polymers with complex structures. Let us consider a coarse grained model for polyhydroalanaline which represents a monomer with three beads, as depicted in the schematics below: a backbone bead (purple), a bead for the carboxylic acid group (cyan) and a bead for the amino group (blue).|\n",
    "<img src=\"PDha.png\" width=100 height=100 />\n"
   ]
  },
  {
   "cell_type": "markdown",
   "metadata": {},
   "source": [
    "To set up such polymer with sugar first one has to define the different particles in the monomer"
   ]
  },
  {
   "cell_type": "code",
   "execution_count": 8,
   "metadata": {},
   "outputs": [],
   "source": [
    "# Define each different bead in the polymer\n",
    "# Use sg.propose_unused_type() to let sugar choose one non-used particle type for you\n",
    "\n",
    "backbone_bead=sg.particle(name='C', \n",
    "                   type=sg.propose_unused_type(),\n",
    "                   q=0, \n",
    "                   diameter=0.4*sg.units.nm, \n",
    "                   epsilon=1*sg.units('reduced_energy'))\n",
    "\n",
    "carboxyl_bead=sg.particle(name='COOH', \n",
    "                   type=sg.propose_unused_type(),\n",
    "                   q=0, \n",
    "                   diameter=0.5*sg.units.nm, \n",
    "                   epsilon=1*sg.units('reduced_energy'))\n",
    "\n",
    "amine_bead=sg.particle(name='NH3', \n",
    "                   type=sg.propose_unused_type(),\n",
    "                   q=0, \n",
    "                   diameter=0.3*sg.units.nm, \n",
    "                   epsilon=1*sg.units('reduced_energy'))\n"
   ]
  },
  {
   "cell_type": "markdown",
   "metadata": {},
   "source": [
    "Then, one defines the structure of the residue of the polymer. A residue is composed by a `central_bead` where one or various `side_chains` are attached. Each side chain can contain one particle or other residues. "
   ]
  },
  {
   "cell_type": "code",
   "execution_count": 9,
   "metadata": {},
   "outputs": [],
   "source": [
    "# Define the monomer residue\n",
    "\n",
    "PDha_residue=sg.residue(name='PDha_mon',\n",
    "                    central_bead=backbone_bead,\n",
    "                    side_chains=[carboxyl_bead,amine_bead])\n"
   ]
  },
  {
   "cell_type": "markdown",
   "metadata": {},
   "source": [
    "Once done, one has to define a bond for each different bond in the polymer. For simplicity, in this tutorial we assume that all bonds are equal and we set-up all bonds using the same generic bond"
   ]
  },
  {
   "cell_type": "code",
   "execution_count": 10,
   "metadata": {},
   "outputs": [],
   "source": [
    "# Define the bonds between the particles\n",
    "\n",
    "from espressomd import interactions\n",
    "\n",
    "generic_bond_lenght=0.4 * sg.units.nm\n",
    "generic_harmonic_constant=400*sg.units('reduced_energy / nm**2') \n",
    "generic_bond = interactions.HarmonicBond(k=generic_harmonic_constant.to('reduced_energy / reduced_length**2').magnitude,\n",
    "                                 r_0=generic_bond_lenght.to('reduced_length').magnitude)\n",
    "\n",
    "# C-C bond\n",
    "sg.define_bond(bond=generic_bond, particle1=backbone_bead, particle2=backbone_bead)\n",
    "# C-COOH bond\n",
    "sg.define_bond(bond=generic_bond, particle1=backbone_bead, particle2=carboxyl_bead)\n",
    "# C-NH4 bond\n",
    "sg.define_bond(bond=generic_bond, particle1=backbone_bead, particle2=amine_bead)\n",
    "\n",
    "sg.add_bonds_to_system(system=system)"
   ]
  },
  {
   "cell_type": "markdown",
   "metadata": {},
   "source": [
    "Finally, one uses the residues to define the polymer sequence given by the argument `residue_list`. Note that one needs to add one residue in `residue_list` per each residue in your polymer chain, i.e."
   ]
  },
  {
   "cell_type": "code",
   "execution_count": 11,
   "metadata": {},
   "outputs": [],
   "source": [
    "# Define the polymer molecule\n",
    "\n",
    "N_monomers=8\n",
    "PDha_polymer=sg.molecule(name='PDha',residue_list=[PDha_residue]*N_monomers)\n",
    "\n",
    "# Create a PdHa dimer into the espresso system\n",
    "\n",
    "N_pol=1\n",
    "\n",
    "for _ in range(N_pol):\n",
    "    sg.create_object_in_system(object=PDha_polymer, \n",
    "                               system=system, \n",
    "                               position=[Box_L.to('reduced_length').magnitude/2]*3) #Create it in the box center \n",
    "\n",
    "picture_name='PDha_system.png'\n",
    "sg.do_snapshot_system(system=system, filename=picture_name)\n",
    "\n",
    "# To show the picture\n",
    "from PIL import Image\n",
    "img = Image.open(picture_name)\n",
    "img.show()\n",
    "\n",
    "# To clean-up the system before continuing the tutorial\n",
    "sg.destroy_object_in_system(object=PDha_polymer, system=system)"
   ]
  },
  {
   "cell_type": "markdown",
   "metadata": {},
   "source": [
    "## Use Sugar to create peptides <a class=\"anchor\" id=\"peptides\"></a>"
   ]
  },
  {
   "cell_type": "markdown",
   "metadata": {},
   "source": [
    "Sugar includes built-on functions to facilitate the setting up of coarse-grained models for peptides from their aminoacid sequence. At the moment, two different coarse-grained models have been implemented with one bead (`model=1beadAA`) or two beads (`model=2beadAA`) per aminoacid. For the aminoacids currently available, we provide reference parameters in the folder (`reference_parameters`) which can be loaded into Sugar"
   ]
  },
  {
   "cell_type": "code",
   "execution_count": 12,
   "metadata": {},
   "outputs": [],
   "source": [
    "N_peptide=1\n",
    "sequence=\"KKKKKEEEEE\"\n",
    "model='2beadAA'  # Model with 2 beads per each aminoacid\n",
    "\n",
    " # Load peptide parametrization from Lunkad, R. et al.  Molecular Systems Design & Engineering (2021), 6(2), 122-131.\n",
    "\n",
    "sg.load_parameters(filename='reference_parameters/Lunkad2021.txt')\n",
    "sg.add_bonds_to_system(system=system) # Add the bonds loaded from the file to the espresso system\n",
    "\n",
    "peptide = sg.peptide(name=sequence, sequence=sequence, model=model)\n",
    "\n",
    "for _ in range(N_peptide):\n",
    "    sg.create_object_in_system(object=peptide, \n",
    "                               system=system, \n",
    "                               position=[Box_L.to('reduced_length').magnitude/2]*3) #Create it in the box center \n",
    "    \n",
    "picture_name='peptide_system.png'\n",
    "sg.do_snapshot_system(system=system, filename=picture_name)\n",
    "\n",
    "# To show the picture\n",
    "from PIL import Image\n",
    "img = Image.open(picture_name)\n",
    "img.show()\n",
    "\n",
    "# To clean-up the system before continuing the tutorial\n",
    "sg.destroy_object_in_system(object=peptide, system=system)"
   ]
  },
  {
   "cell_type": "markdown",
   "metadata": {},
   "source": [
    "Note that in `sequence` we have used the one letter code for the aminoacids. Internally, Sugar uses the one-letter code to define each aminoacid. The three letter code can also be used as input, which Sugar automatically detects and transforms into the one-letter code using its own protein sequence parser."
   ]
  },
  {
   "cell_type": "code",
   "execution_count": 13,
   "metadata": {},
   "outputs": [
    {
     "name": "stdout",
     "output_type": "stream",
     "text": [
      "one letter code ['K', 'K', 'K', 'K', 'K', 'E', 'E', 'E', 'E', 'E']\n",
      "defined peptide sequence  ['K', 'K', 'K', 'K', 'K', 'E', 'E', 'E', 'E', 'E']\n"
     ]
    }
   ],
   "source": [
    "# The same peptide as before, but now using the three letter code for aminoacids\n",
    "\n",
    "sequence='LYS-LYS-LYS-LYS-LYS-GLU-GLU-GLU-GLU-GLU'\n",
    "peptide = sg.peptide(name=sequence, sequence=sequence, model=model)\n",
    "print('one letter code', sg.protein_sequence_parser(sequence=sequence))\n",
    "print('defined peptide sequence ', peptide.sequence)\n"
   ]
  }
 ],
 "metadata": {
  "kernelspec": {
   "display_name": "Python 3",
   "language": "python",
   "name": "python3"
  },
  "language_info": {
   "codemirror_mode": {
    "name": "ipython",
    "version": 3
   },
   "file_extension": ".py",
   "mimetype": "text/x-python",
   "name": "python",
   "nbconvert_exporter": "python",
   "pygments_lexer": "ipython3",
   "version": "3.8.10"
  }
 },
 "nbformat": 4,
 "nbformat_minor": 4
}
