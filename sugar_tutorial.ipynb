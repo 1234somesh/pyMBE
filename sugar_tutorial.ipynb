{
 "cells": [
  {
   "cell_type": "markdown",
   "metadata": {},
   "source": [
    " # Sugar tutorial\n",
    "\n",
    "\n",
    "\n"
   ]
  },
  {
   "cell_type": "markdown",
   "metadata": {},
   "source": [
    "The objective of Sugar library is to provide a set of handy tools to facilitate the setup of simulations of polyelectrolytes and peptides with the Molecular Dynamics software ESPResSo. In other words: adding sugar to your ESPResSo scripts makes your life sweater. In this tutorial, the different functionalities of sugar are explained with different practical examples."
   ]
  },
  {
   "cell_type": "markdown",
   "metadata": {},
   "source": [
    "## Introduction"
   ]
  },
  {
   "cell_type": "markdown",
   "metadata": {},
   "source": [
    "Let us get started by importing sugar library and creating an instance of it. When sugar is inicialitated, the default system of reduced units is defined:"
   ]
  },
  {
   "cell_type": "code",
   "execution_count": 1,
   "metadata": {},
   "outputs": [],
   "source": [
    "import sugar\n",
    "sg=sugar.sugar_library()"
   ]
  },
  {
   "cell_type": "markdown",
   "metadata": {},
   "source": [
    "When sugar is inicialitated, a default system of reduced units is defined. The active set of reduced units can be consulted using"
   ]
  },
  {
   "cell_type": "code",
   "execution_count": null,
   "metadata": {},
   "outputs": [],
   "source": [
    "sg.print_reduced_units()"
   ]
  },
  {
   "cell_type": "markdown",
   "metadata": {},
   "source": [
    "This default definition of reduced units can be changed at the convience of the user using the command"
   ]
  },
  {
   "cell_type": "code",
   "execution_count": null,
   "metadata": {},
   "outputs": [],
   "source": [
    "sg.set_reduced_units(unit_length=0.5*sg.units.nm,  unit_charge=2*sg.units.e, temperature=300 * sg.units.K)"
   ]
  },
  {
   "cell_type": "markdown",
   "metadata": {},
   "source": [
    "All input variables will be given to ESPResSo using these reduced units, since it is a convinient choice for the simulation setup. Internally, Sugar uses Pint library to deal with unit transformations, which in turn should be  used by the user to define its own variables"
   ]
  },
  {
   "cell_type": "code",
   "execution_count": 2,
   "metadata": {},
   "outputs": [
    {
     "name": "stdout",
     "output_type": "stream",
     "text": [
      "The side of the simulation box is  5 nanometer = 14.084507042253522 reduced_length\n"
     ]
    }
   ],
   "source": [
    "Box_L = 5 * sg.units.nm\n",
    "\n",
    "print('The side of the simulation box is ', Box_L, '=' ,Box_L.to('reduced_length'))\n",
    "\n",
    "import espressomd\n",
    "\n",
    "# Create an instance of an ESPResSo system \n",
    "\n",
    "system=espressomd.System(box_l=[Box_L.to('reduced_length').magnitude]*3)"
   ]
  },
  {
   "cell_type": "markdown",
   "metadata": {},
   "source": [
    "## Use Sugar to create particles in ESPResSo"
   ]
  },
  {
   "cell_type": "markdown",
   "metadata": {},
   "source": [
    "Particles are the smaller objects in the simulation box, which can represent small ions or other small chemical species. In turn, particles can also be used as building blocks for larger molecules or polymers, where they can represent one monomeric units. Particle objects are used in sugar as input for several of its funcionalities, including to create larger molecules and peptides. The basic properties of a particle are:"
   ]
  },
  {
   "cell_type": "code",
   "execution_count": null,
   "metadata": {},
   "outputs": [],
   "source": [
    "\n",
    "cation=sg.particle(name='Na', \n",
    "                   type=0, \n",
    "                   q=1, \n",
    "                   diameter=0.35*sg.units.nm, \n",
    "                   epsilon=1*sg.units('reduced_energy'))\n",
    "\n",
    "print('label for the particle', cation.name)\n",
    "print('type of the particle to be identified within espresso', cation.type)\n",
    "print('charge of the particle', cation.q)\n",
    "\n",
    "# These parameters are only requiered for posterior setting up of Lennard-Jones interactions \n",
    "\n",
    "print('diameter of the particle', cation.diameter)\n",
    "print('epsilon of the particle', cation.epsilon)\n",
    "\n"
   ]
  },
  {
   "cell_type": "markdown",
   "metadata": {},
   "source": [
    "One can use sugar to create any number of the defined particles into the espresso system"
   ]
  },
  {
   "cell_type": "code",
   "execution_count": null,
   "metadata": {},
   "outputs": [],
   "source": [
    "N_cations=20\n",
    "\n",
    "for _ in range(N_cations):\n",
    "    sg.create_object_in_system(object=cation, system=system)"
   ]
  },
  {
   "cell_type": "markdown",
   "metadata": {},
   "source": [
    "Let us see the particle that we created by visualizing our espresso system"
   ]
  },
  {
   "cell_type": "code",
   "execution_count": null,
   "metadata": {},
   "outputs": [],
   "source": [
    "picture_name='carbon_system.png'\n",
    "sg.do_snapshot_system(system=system, filename=picture_name)\n",
    "\n",
    "# To show the picture\n",
    "from PIL import Image\n",
    "img = Image.open(picture_name)\n",
    "img.show()\n",
    "\n",
    "# To clean-up the system before continuing the tutorial\n",
    "sg.destroy_object_in_system(object=cation, system=system)"
   ]
  },
  {
   "cell_type": "markdown",
   "metadata": {},
   "source": [
    "## Use Sugar to create molecules in ESPResSo"
   ]
  },
  {
   "cell_type": "markdown",
   "metadata": {},
   "source": [
    "Particles can be jointed together to form residues which in turn can be using as building blocks to construct molecules. A residue is composed by a `central_bead` where one or various `side_chains` are attached. Each side chain can contain one particle or other residues. For instance, to create the Chloroform molecule (CH<sub>3</sub>-CCl<sub>3</sub>)..."
   ]
  },
  {
   "cell_type": "code",
   "execution_count": null,
   "metadata": {},
   "outputs": [],
   "source": [
    "# Define the different particle types in chloroform\n",
    "# Use sg.propose_unused_type() to let sugar one non-used particle type for you\n",
    "\n",
    "carbon=sg.particle(name='C', \n",
    "                   type=sg.propose_unused_type(),\n",
    "                   q=0, \n",
    "                   diameter=0.4*sg.units.nm, \n",
    "                   epsilon=1*sg.units('reduced_energy'))\n",
    "\n",
    "chlorine=sg.particle(name='Cl', \n",
    "                   type=sg.propose_unused_type(),\n",
    "                   q=0, \n",
    "                   diameter=0.5*sg.units.nm, \n",
    "                   epsilon=1*sg.units('reduced_energy'))\n",
    "\n",
    "hydrogen=sg.particle(name='H', \n",
    "                   type=sg.propose_unused_type(),\n",
    "                   q=0, \n",
    "                   diameter=0.3*sg.units.nm, \n",
    "                   epsilon=1*sg.units('reduced_energy'))\n",
    "\n",
    "# Split chloroform in two residues\n",
    "\n",
    "methylene=sg.residue(name='met',\n",
    "                    central_bead=carbon,\n",
    "                    side_chains=[hydrogen,hydrogen,hydrogen])\n",
    "\n",
    "tricloromethylene=sg.residue(name='Clmet',\n",
    "                    central_bead=carbon,\n",
    "                    side_chains=[chlorine]*3)\n",
    "\n",
    "# Define the chloroform molecule as the combination of the two residues\n",
    "\n",
    "chloroform=sg.molecule(name='',residue_list=[methylene,tricloromethylene])\n",
    "\n",
    "# Define the bonds between the particles\n",
    "\n",
    "from espressomd import interactions\n",
    "\n",
    "generic_bond_lenght=0.4 * sg.units.nm\n",
    "generic_harmonic_constant=400*sg.units('reduced_energy / nm**2') \n",
    "generic_bond = interactions.HarmonicBond(k=generic_harmonic_constant.to('reduced_energy / reduced_length**2').magnitude,\n",
    "                                 r_0=generic_bond_lenght.to('reduced_length').magnitude)\n",
    "\n",
    "sg.define_bond(bond=generic_bond, particle1=carbon, particle2=carbon)\n",
    "sg.define_bond(bond=generic_bond, particle1=carbon, particle2=hydrogen)\n",
    "sg.define_bond(bond=generic_bond, particle1=carbon, particle2=chlorine)\n",
    "\n",
    "sg.add_bonds_to_system(system=system)\n",
    "\n",
    "# Create a chloroform molecule into the espresso system\n",
    "\n",
    "N_chloroform=1\n",
    "\n",
    "for _ in range(N_chloroform):\n",
    "    sg.create_object_in_system(object=chloroform, system=system, position=[Box_L.to('reduced_length').magnitude/2]*3)\n",
    "\n",
    "# Do a small thermalization of the system to get a nicer picture\n",
    "\n",
    "sg.setup_lj_interactions(system=system)\n",
    "sg.minimize_system_energy(system=system)\n",
    "    \n",
    "picture_name='chloroform_system.png'\n",
    "sg.do_snapshot_system(system=system, filename=picture_name)\n",
    "\n",
    "# To show the picture\n",
    "from PIL import Image\n",
    "img = Image.open(picture_name)\n",
    "img.show()\n",
    "\n",
    "# To clean-up the system before continuing the tutorial\n",
    "sg.destroy_object_in_system(object=chloroform, system=system)\n"
   ]
  },
  {
   "cell_type": "markdown",
   "metadata": {},
   "source": [
    "## Use Sugar to create polymers in ESPResSo"
   ]
  },
  {
   "cell_type": "markdown",
   "metadata": {},
   "source": [
    "Sugar can be used also to set up fastly polymers with different arquitechtures (e.g. alternate polymer, di-block polymers...). For instance, we can consider one model case of a di-block polymer [C(CH<sub>3</sub>)]<sub>5</sub>-[C(CCl<sub>3</sub>)]<sub>5</sub>"
   ]
  },
  {
   "cell_type": "code",
   "execution_count": null,
   "metadata": {},
   "outputs": [],
   "source": [
    "# Define the backbone residues\n",
    "\n",
    "backbone_CH3=sg.residue(name='back-CH3',\n",
    "                    central_bead=carbon,\n",
    "                    side_chains=[methylene])\n",
    "\n",
    "backbone_Cl=sg.residue(name='back-CCl3',\n",
    "                    central_bead=carbon,\n",
    "                    side_chains=[tricloromethylene])\n",
    "\n",
    "N_units=4\n",
    "\n",
    "di_block_polymer=sg.molecule(name='block_pol',residue_list=[backbone_CH3]*N_units+[backbone_Cl]*N_units)\n",
    "\n",
    "# Create a chloroform molecule into the espresso system\n",
    "\n",
    "N_pol=1\n",
    "\n",
    "for _ in range(N_pol):\n",
    "    sg.create_object_in_system(object=di_block_polymer, system=system, position=[Box_L.to('reduced_length').magnitude/2]*3)\n",
    "\n",
    "# Do a small thermalization of the system to get a nicer picture\n",
    "\n",
    "sg.minimize_system_energy(system=system)\n",
    "    \n",
    "picture_name='diblock_system.png'\n",
    "sg.do_snapshot_system(system=system, filename=picture_name)\n",
    "\n",
    "# To show the picture\n",
    "from PIL import Image\n",
    "img = Image.open(picture_name)\n",
    "img.show()\n",
    "\n",
    "# To clean-up the system before continuing the tutorial\n",
    "sg.destroy_object_in_system(object=di_block_polymer, system=system)"
   ]
  },
  {
   "cell_type": "markdown",
   "metadata": {},
   "source": [
    "One can easilly set up instead the alternating case of our model polymer  [C(CH<sub>3</sub>)-C(CCl<sub>3</sub>)]<sub>5</sub> using sugar"
   ]
  },
  {
   "cell_type": "code",
   "execution_count": null,
   "metadata": {},
   "outputs": [],
   "source": [
    "alternating_polymer=sg.molecule(name='alt_pol',residue_list=[backbone_CH3,backbone_Cl]*N_units)\n",
    "\n",
    "# Create a chloroform molecule into the espresso system\n",
    "\n",
    "N_pol=1\n",
    "\n",
    "for _ in range(N_pol):\n",
    "    sg.create_object_in_system(object=alternating_polymer, system=system, position=[Box_L.to('reduced_length').magnitude/2]*3)\n",
    "\n",
    "# Do a small thermalization of the system to get a nicer picture\n",
    "\n",
    "sg.minimize_system_energy(system=system)\n",
    "    \n",
    "picture_name='diblock_system.png'\n",
    "sg.do_snapshot_system(system=system, filename=picture_name)\n",
    "\n",
    "# To show the picture\n",
    "from PIL import Image\n",
    "img = Image.open(picture_name)\n",
    "img.show()\n",
    "\n",
    "# To clean-up the system before continuing the tutorial\n",
    "sg.destroy_object_in_system(object=alternating_polymer, system=system)"
   ]
  },
  {
   "cell_type": "markdown",
   "metadata": {},
   "source": [
    "## Use Sugar to create peptides "
   ]
  },
  {
   "cell_type": "markdown",
   "metadata": {},
   "source": [
    "Sugar includes built-on functions to facilitate the setting up of coarse-grained models for peptides from their aminoacid sequence. At the moment, two different coarse-grained models have been implemented with one bead (`model=1beadAA`) or two beads (`model=2beadAA`) per aminoacid. For the aminoacids currently available, we provide reference parameters in the folder (`reference_parameters`) which can be loaded into Sugar"
   ]
  },
  {
   "cell_type": "code",
   "execution_count": 3,
   "metadata": {},
   "outputs": [
    {
     "name": "stdout",
     "output_type": "stream",
     "text": [
      "\n",
      "*** Minimazing system energy... ***\n",
      "\n",
      "steepest descent\n",
      "velocity verlet\n",
      "\n",
      " Minimization finished \n",
      "\n"
     ]
    }
   ],
   "source": [
    "N_aminoacids=5\n",
    "N_peptide=1\n",
    "sequence=\"K\"*N_aminoacids+\"D\"*N_aminoacids\n",
    "model='2beadAA'  # Model with 2 beads per each aminoacid\n",
    "\n",
    " # Load peptide parametrization from Lunkad, R. et al.  Molecular Systems Design & Engineering (2021), 6(2), 122-131.\n",
    "\n",
    "sg.load_parameters(filename='reference_parameters/Lunkad2021.txt')\n",
    "sg.add_bonds_to_system(system=system) # Add the bonds loaded from the file to the espresso system\n",
    "\n",
    "peptide = sg.peptide(name=sequence, sequence=sequence, model=model)\n",
    "\n",
    "for _ in range(N_peptide):\n",
    "    sg.create_object_in_system(object=peptide, system=system, position=[Box_L.to('reduced_length').magnitude/2]*3)\n",
    "\n",
    "# Do a small thermalization of the system to get a nicer picture\n",
    "\n",
    "sg.minimize_system_energy(system=system)\n",
    "    \n",
    "picture_name='peptide_system.png'\n",
    "sg.do_snapshot_system(system=system, filename=picture_name)\n",
    "\n",
    "# To show the picture\n",
    "from PIL import Image\n",
    "img = Image.open(picture_name)\n",
    "img.show()\n",
    "\n",
    "# To clean-up the system before continuing the tutorial\n",
    "sg.destroy_object_in_system(object=peptide, system=system)"
   ]
  },
  {
   "cell_type": "markdown",
   "metadata": {},
   "source": [
    "Note that in `sequence` we have used the one letter code for the aminoacids. Internally, Sugar uses the one-letter code to define each aminoacid. The three letter code can also be used as input, which Sugar automatically detects and transforms into the one-letter code using its own protein sequence parser."
   ]
  },
  {
   "cell_type": "code",
   "execution_count": 4,
   "metadata": {},
   "outputs": [
    {
     "name": "stdout",
     "output_type": "stream",
     "text": [
      "one letter code ['K', 'K', 'K', 'K', 'K', 'E', 'E', 'E', 'E', 'E']\n",
      "defined peptide sequence  ['K', 'K', 'K', 'K', 'K', 'E', 'E', 'E', 'E', 'E']\n"
     ]
    }
   ],
   "source": [
    "# The same peptide as before, but now using the three letter code for aminoacids\n",
    "\n",
    "sequence='LYS-LYS-LYS-LYS-LYS-GLU-GLU-GLU-GLU-GLU'\n",
    "peptide = sg.peptide(name=sequence, sequence=sequence, model=model)\n",
    "print('one letter code', sg.protein_sequence_parser(sequence=sequence))\n",
    "print('defined peptide sequence ', peptide.sequence)\n"
   ]
  },
  {
   "cell_type": "code",
   "execution_count": null,
   "metadata": {},
   "outputs": [],
   "source": [
    "molecule_list=[cation,\n",
    "               anion, \n",
    "               strong_polyampholyte,\n",
    "               weak_polyampholyte,\n",
    "               one_bead_peptide,\n",
    "               two_bead_peptide,\n",
    "               custom_two_bead_peptide]\n",
    "\n",
    "sg.setup_lj_interactions(mol_list=molecule_list, system=system)"
   ]
  },
  {
   "cell_type": "markdown",
   "metadata": {},
   "source": [
    "You can also setup electrostatic interactions in your system using Sugar. By default, p3m method is used but the Debye-Huckel potential is also implemented"
   ]
  },
  {
   "cell_type": "code",
   "execution_count": null,
   "metadata": {},
   "outputs": [],
   "source": [
    "method='DH'\n",
    "\n",
    "sg.setup_electrostatic_interactions(system=system, c_salt=c_salt, method=method)"
   ]
  },
  {
   "cell_type": "markdown",
   "metadata": {},
   "source": [
    "Once all you have added all your interactions to your system, you can use sugar to minimize your system energy"
   ]
  },
  {
   "cell_type": "code",
   "execution_count": null,
   "metadata": {},
   "outputs": [],
   "source": [
    "sg.minimize_system_energy(system=system)"
   ]
  },
  {
   "cell_type": "markdown",
   "metadata": {},
   "source": [
    "and to setup the thermostat for Langevin Dynamics"
   ]
  },
  {
   "cell_type": "code",
   "execution_count": null,
   "metadata": {},
   "outputs": [],
   "source": [
    "# By default time_step=1e-2, it is decreased here for enhaced visualization\n",
    "sg.setup_langevin_dynamics(system=system, time_step=5e-4) "
   ]
  },
  {
   "cell_type": "markdown",
   "metadata": {},
   "source": [
    "Note that in these processes many parameters are setup to default values that are reasonable choices in general but that should always be checked for your specific system. Please, refer to the documentation of each function for further details. Espresso visualizer can be used to check the molecules that we have created throught this tutorial"
   ]
  },
  {
   "cell_type": "code",
   "execution_count": null,
   "metadata": {},
   "outputs": [],
   "source": [
    "from espressomd import visualization\n",
    "\n",
    "visualizer = visualization.openGLLive(system, bond_type_radius=[0.3])\n",
    "\n",
    "system.integrator.run(steps=1000) # to equilibrate the system\n",
    "\n",
    "visualizer.run()"
   ]
  },
  {
   "cell_type": "markdown",
   "metadata": {},
   "source": [
    "### References\n",
    "\n",
    "[1] Hass MA, Mulder FAA. Contemporary NMR Studies of Protein Electrostatics. Annu Rev Biophys. 2015;44:53-75.\n",
    "\n",
    "[2] Platzer G, Okon M, McIntosh LP. 2014. pH-dependent random coil 1 H, 13 C, and 15 N chemical shifts of the ionizable amino acids: a guide for protein pK a measurements. J. Biomol. NMR 60:109–29\n",
    "\n",
    "[3] Handbook of Chemistry and Physics, 72nd Edition, CRC Press, Boca Raton, FL, 1991.\n",
    "\n",
    "[4] Y. Nozaki and C. Tanford, Methods Enzymol., 1967, 11, 715–734.\n",
    "\n",
    "[5] Bienkiewicz & K.J. Lumb, J Biomol NMR 15: 203-206 (1999)."
   ]
  }
 ],
 "metadata": {
  "kernelspec": {
   "display_name": "Python 3",
   "language": "python",
   "name": "python3"
  },
  "language_info": {
   "codemirror_mode": {
    "name": "ipython",
    "version": 3
   },
   "file_extension": ".py",
   "mimetype": "text/x-python",
   "name": "python",
   "nbconvert_exporter": "python",
   "pygments_lexer": "ipython3",
   "version": "3.8.10"
  }
 },
 "nbformat": 4,
 "nbformat_minor": 4
}
