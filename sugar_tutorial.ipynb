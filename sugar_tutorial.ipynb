{
 "cells": [
  {
   "cell_type": "markdown",
   "metadata": {},
   "source": [
    " # Tutorial of the molecule builder for ESPResSo: Sugar\n",
    "\n",
    "\n",
    "\n"
   ]
  },
  {
   "cell_type": "markdown",
   "metadata": {},
   "source": [
    "The objective of Sugar is to facilitate the building of complex molecules into the Molecular Dynamics software ESPResSo. Furthermore, it includes several handy tools to facilitate the setting up of molecular dynamics and constant pH simulations in ESPResSo. In other words: adding sugar to your ESPResSo scripts makes your life sweater. "
   ]
  },
  {
   "cell_type": "markdown",
   "metadata": {},
   "source": [
    "## Table of contents:\n",
    "* [Introduction](#introduction)\n",
    "* [Use Sugar as a molecule builder for ESPResSo](#molecule_builder)\n",
    "    * [Create particles](#particles)\n",
    "    * [Create polymers](#polymers)\n",
    "    * [Create peptides](#peptides)"
   ]
  },
  {
   "cell_type": "markdown",
   "metadata": {},
   "source": [
    "## Introduction <a class=\"anchor\" id=\"introduction\"></a>"
   ]
  },
  {
   "cell_type": "markdown",
   "metadata": {},
   "source": [
    "Let us get started by importing sugar library and creating an instance of it. "
   ]
  },
  {
   "cell_type": "code",
   "execution_count": 1,
   "metadata": {},
   "outputs": [],
   "source": [
    "import sugar\n",
    "sg=sugar.sugar_library()"
   ]
  },
  {
   "cell_type": "markdown",
   "metadata": {},
   "source": [
    "When sugar is inicialitated, a default system of reduced units is defined. The active set of reduced units can be consulted using"
   ]
  },
  {
   "cell_type": "code",
   "execution_count": 2,
   "metadata": {},
   "outputs": [
    {
     "name": "stdout",
     "output_type": "stream",
     "text": [
      "\n",
      "Current set of reduced units:\n",
      "0.355 nanometer = 1 reduced_length\n",
      "4.11640356238e-21 joule = 1 reduced_energy\n",
      "Temperature: 298.15 kelvin\n",
      "1.602176634e-19 coulomb = 1 reduced_charge\n",
      "\n"
     ]
    }
   ],
   "source": [
    "sg.print_reduced_units()"
   ]
  },
  {
   "cell_type": "markdown",
   "metadata": {},
   "source": [
    "This default definition of reduced units can be changed at the convience of the user using the command"
   ]
  },
  {
   "cell_type": "code",
   "execution_count": 3,
   "metadata": {},
   "outputs": [
    {
     "name": "stdout",
     "output_type": "stream",
     "text": [
      "\n",
      "Current set of reduced units:\n",
      "0.49999999999999994 nanometer = 1 reduced_length\n",
      "4.141945559999999e-21 joule = 1 reduced_energy\n",
      "Temperature: 300 kelvin\n",
      "3.204353268e-19 coulomb = 1 reduced_charge\n",
      "\n"
     ]
    }
   ],
   "source": [
    "sg.set_reduced_units(unit_length=0.5*sg.units.nm,  unit_charge=2*sg.units.e, temperature=300 * sg.units.K)"
   ]
  },
  {
   "cell_type": "markdown",
   "metadata": {},
   "source": [
    "All input variables will be given to ESPResSo using these reduced units, since it is a convinient choice for the simulation setup. Internally, Sugar uses Pint library to deal with unit transformations, which in turn should be  used by the user to define its own variables"
   ]
  },
  {
   "cell_type": "code",
   "execution_count": 4,
   "metadata": {},
   "outputs": [
    {
     "name": "stdout",
     "output_type": "stream",
     "text": [
      "The side of the simulation box is  7.5 nanometer = 14.999999999999998 reduced_length\n"
     ]
    }
   ],
   "source": [
    "Box_L = 7.5 * sg.units.nm\n",
    "\n",
    "print('The side of the simulation box is ', Box_L, '=' ,Box_L.to('reduced_length'))\n",
    "\n",
    "import espressomd\n",
    "\n",
    "# Create an instance of an ESPResSo system \n",
    "\n",
    "espresso_system=espressomd.System(box_l=[Box_L.to('reduced_length').magnitude]*3)"
   ]
  },
  {
   "cell_type": "markdown",
   "metadata": {},
   "source": [
    "## Use Sugar as a molecule builder for ESPResSo <a class=\"anchor\" id=\"molecule_builder\"></a>\n",
    "### Create particles <a class=\"anchor\" id=\"particles\"></a>"
   ]
  },
  {
   "cell_type": "markdown",
   "metadata": {},
   "source": [
    "Particles are the smaller objects in the simulation box, which can represent small ions or other small chemical species. In turn, particles can also be used as building blocks for larger molecules or polymers, where they can represent one monomeric unit or part of it. Particle objects are used in sugar as input for several of its funcionalities, including to create larger molecules and peptides. The basic properties of a particle are:"
   ]
  },
  {
   "cell_type": "code",
   "execution_count": 5,
   "metadata": {},
   "outputs": [
    {
     "name": "stdout",
     "output_type": "stream",
     "text": [
      "label for the particle Na\n",
      "type of the particle to be identified within espresso 0\n",
      "charge of the particle 1\n",
      "diameter of the particle 0.35 nanometer\n",
      "epsilon of the particle 1 reduced_energy\n"
     ]
    }
   ],
   "source": [
    "\n",
    "cation=sg.particle(name='Na', \n",
    "                   es_type=0, \n",
    "                   q=1, \n",
    "                   diameter=0.35*sg.units.nm, \n",
    "                   epsilon=1*sg.units('reduced_energy'))\n",
    "\n",
    "print('label for the particle', cation.name)\n",
    "print('type of the particle to be identified within espresso', cation.es_type)\n",
    "print('charge of the particle', cation.q)\n",
    "\n",
    "# These parameters are only requiered for posterior setting up of Lennard-Jones interactions \n",
    "\n",
    "print('diameter of the particle', cation.diameter)\n",
    "print('epsilon of the particle', cation.epsilon)\n"
   ]
  },
  {
   "cell_type": "markdown",
   "metadata": {},
   "source": [
    "One can use sugar to create any number of the defined particles into the espresso system"
   ]
  },
  {
   "cell_type": "code",
   "execution_count": 6,
   "metadata": {},
   "outputs": [],
   "source": [
    "N_cations=20\n",
    "\n",
    "for _ in range(N_cations):\n",
    "    sg.create_sugar_object_in_espresso(sugar_object=cation, espresso_system=espresso_system)"
   ]
  },
  {
   "cell_type": "markdown",
   "metadata": {},
   "source": [
    "Let us see the particles that we have created by visualizing our espresso system"
   ]
  },
  {
   "cell_type": "code",
   "execution_count": 7,
   "metadata": {},
   "outputs": [],
   "source": [
    "picture_name='cation_system.png'\n",
    "sg.do_snapshot_espresso_system(espresso_system=espresso_system, filename=picture_name)\n",
    "\n",
    "# To show the picture\n",
    "from PIL import Image\n",
    "img = Image.open(picture_name)\n",
    "img.show()\n",
    "\n",
    "# To clean-up the system before continuing the tutorial\n",
    "sg.destroy_sugar_object_in_system(sugar_object=cation, espresso_system=espresso_system)"
   ]
  },
  {
   "cell_type": "markdown",
   "metadata": {},
   "source": [
    "\n",
    "### Use Sugar to create polymers in ESPResSo <a class=\"anchor\" id=\"polymers\"></a>"
   ]
  },
  {
   "cell_type": "markdown",
   "metadata": {},
   "source": [
    "Sugar can be used to easily construct coarse-grained models of polymers with complex structures. Let us consider a coarse grained model for polyhydroalanaline which represents a monomer with three beads, as depicted in the schematics below: a backbone bead (purple), a bead for the carboxylic acid group (cyan) and a bead for the amino group (blue).|\n",
    "<img src=\"PDha.png\" width=150 height=150 />\n"
   ]
  },
  {
   "cell_type": "markdown",
   "metadata": {},
   "source": [
    "To set up such polymer with sugar first one has to define the different particles in the monomer"
   ]
  },
  {
   "cell_type": "code",
   "execution_count": 8,
   "metadata": {},
   "outputs": [],
   "source": [
    "# Define each different bead in the polymer\n",
    "# Use sg.propose_unused_type() to let sugar choose one non-used particle type for you\n",
    "\n",
    "PDha_backbone_bead=sg.particle(name='BB', \n",
    "                   es_type=sg.propose_unused_type(),\n",
    "                   q=0, \n",
    "                   diameter=0.4*sg.units.nm, \n",
    "                   epsilon=1*sg.units('reduced_energy'))\n",
    "\n",
    "PDha_carboxyl_bead=sg.particle(name='COOH-PDha', \n",
    "                   es_type=sg.propose_unused_type(),\n",
    "                   q=0, \n",
    "                   diameter=0.5*sg.units.nm, \n",
    "                   epsilon=1*sg.units('reduced_energy'))\n",
    "\n",
    "PDha_amine_bead=sg.particle(name='NH3-PDha', \n",
    "                   es_type=sg.propose_unused_type(),\n",
    "                   q=0, \n",
    "                   diameter=0.3*sg.units.nm, \n",
    "                   epsilon=1*sg.units('reduced_energy'))\n"
   ]
  },
  {
   "cell_type": "markdown",
   "metadata": {},
   "source": [
    "Then, one defines the structure of the residue of the polymer. A residue is composed by a `central_bead` where one or various `side_chains` are attached. Each side chain can contain one particle or other residues. "
   ]
  },
  {
   "cell_type": "code",
   "execution_count": 9,
   "metadata": {},
   "outputs": [],
   "source": [
    "# Define the monomer residue\n",
    "\n",
    "PDha_residue=sg.residue(name='PDha_mon',\n",
    "                    central_bead=PDha_backbone_bead,\n",
    "                    side_chains=[PDha_carboxyl_bead,PDha_amine_bead])\n"
   ]
  },
  {
   "cell_type": "markdown",
   "metadata": {},
   "source": [
    "Once done, one has to define a bond for each different bond in the polymer. For simplicity, in this tutorial we assume that all bonds are equal and we set-up all bonds using the same generic bond"
   ]
  },
  {
   "cell_type": "code",
   "execution_count": 10,
   "metadata": {},
   "outputs": [],
   "source": [
    "# Define the bonds between the particles\n",
    "\n",
    "from espressomd import interactions\n",
    "\n",
    "generic_bond_lenght=0.5 * sg.units.nm\n",
    "generic_harmonic_constant=400*sg.units('reduced_energy / nm**2') \n",
    "generic_bond = interactions.HarmonicBond(k=generic_harmonic_constant.to('reduced_energy / reduced_length**2').magnitude,\n",
    "                                 r_0=generic_bond_lenght.to('reduced_length').magnitude)\n",
    "\n",
    "# backbone bond\n",
    "sg.define_bond(bond=generic_bond, particle1=PDha_backbone_bead, particle2=PDha_backbone_bead)\n",
    "# backbone-COOH bond\n",
    "sg.define_bond(bond=generic_bond, particle1=PDha_backbone_bead, particle2=PDha_carboxyl_bead)\n",
    "# backbone-NH4 bond\n",
    "sg.define_bond(bond=generic_bond, particle1=PDha_backbone_bead, particle2=PDha_amine_bead)\n",
    "\n",
    "sg.add_bonds_to_espresso(espresso_system=espresso_system)"
   ]
  },
  {
   "cell_type": "markdown",
   "metadata": {},
   "source": [
    "Finally, one uses the residues to define the polymer sequence given by the argument `residue_list`. Note that one needs to add one residue in `residue_list` per each residue in your polymer chain, i.e."
   ]
  },
  {
   "cell_type": "code",
   "execution_count": 11,
   "metadata": {},
   "outputs": [],
   "source": [
    "# Define the polymer molecule\n",
    "\n",
    "N_monomers=8\n",
    "PDha_polymer=sg.molecule(name='PDha',residue_list=[PDha_residue]*N_monomers)\n",
    "\n",
    "# Create a PdHa polymer into the espresso system\n",
    "\n",
    "N_pol=1\n",
    "\n",
    "for _ in range(N_pol):\n",
    "    sg.create_sugar_object_in_espresso(sugar_object=PDha_polymer, \n",
    "                               espresso_system=espresso_system, \n",
    "                               position=[Box_L.to('reduced_length').magnitude/2]*3) #Create it in the box center \n",
    "\n",
    "picture_name='PDha_system.png'\n",
    "sg.do_snapshot_espresso_system(espresso_system=espresso_system, filename=picture_name)\n",
    "\n",
    "# To show the picture\n",
    "from PIL import Image\n",
    "img = Image.open(picture_name)\n",
    "img.show()\n",
    "\n",
    "# To clean-up the system before continuing the tutorial\n",
    "sg.destroy_sugar_object_in_system(sugar_object=PDha_polymer, espresso_system=espresso_system)"
   ]
  },
  {
   "cell_type": "markdown",
   "metadata": {},
   "source": [
    "Sugar can also be used also to setup models that requiere more complex side chains, i.e. with more than one bead per side chain. One example of use of such a model is poly(N,N-diallylglutamate) (PDAGA), whose structure is depicted in the figure below. Following the logic of the previous example, one would construct PDAGA with Sugar by defining a `residue` with a `central_bead` for the polymer backbone (grey) and a side chain attached to it. In this case, however, the group in the side chain of the PDAGA monomer has a complex structure. This group can be coarse-grained using Sugar by defining it as a `residue`  whose `central_bead` is the cyclic amine group (orange) with two carboxyl beads attached on its `side_chains` (purple and yellow).\n",
    "<img src=\"PDAGA.png\" width=150 height=150 />"
   ]
  },
  {
   "cell_type": "code",
   "execution_count": 12,
   "metadata": {},
   "outputs": [
    {
     "name": "stdout",
     "output_type": "stream",
     "text": [
      "WARNING, you have already defined a bond between particle1 and particle2\n",
      "The previously defined bond have been overwritten\n"
     ]
    }
   ],
   "source": [
    "# Define the different beads to model PDAGA \n",
    "# If not es_type is provided, sugar will asign one for you\n",
    "\n",
    "PDAGA_backbone_bead=PDha_backbone_bead\n",
    "\n",
    "PDAGA_amine_bead=sg.particle(name='NH3-PDAGA', \n",
    "                   q=0, \n",
    "                   diameter=0.3*sg.units.nm, \n",
    "                   epsilon=1*sg.units('reduced_energy'))\n",
    "\n",
    "PDAGA_alpha_carboxyl_bead=sg.particle(name='aCOOH-PDAGA', \n",
    "                   q=0, \n",
    "                   diameter=0.2*sg.units.nm, \n",
    "                   epsilon=1*sg.units('reduced_energy'))\n",
    "\n",
    "PDAGA_beta_carboxyl_bead=sg.particle(name='bCOOH-PDAGA', \n",
    "                   q=0, \n",
    "                   diameter=0.4*sg.units.nm, \n",
    "                   epsilon=1*sg.units('reduced_energy'))\n",
    "\n",
    "# Define a residue for the side chain of PDAGA\n",
    "\n",
    "PDAGA_side_chain_residue=sg.residue(name='PDAGA_side_chain_residue',\n",
    "                    central_bead=PDAGA_amine_bead,\n",
    "                    side_chains=[PDAGA_alpha_carboxyl_bead,PDAGA_beta_carboxyl_bead])\n",
    "\n",
    "# Define a residue for the PDAGA monomer\n",
    "\n",
    "PDAGA_monomer_residue=sg.residue(name='PDAGA_monomer_residue',\n",
    "                    central_bead=PDAGA_backbone_bead,\n",
    "                    side_chains=[PDAGA_side_chain_residue])\n",
    "\n",
    "\n",
    "# Define the bonds between the particles\n",
    "\n",
    "# backbone-backbone bond\n",
    "sg.define_bond(bond=generic_bond, particle1=PDAGA_backbone_bead, particle2=PDAGA_backbone_bead)\n",
    "# backbone-cyclic amine bond\n",
    "sg.define_bond(bond=generic_bond, particle1=PDAGA_backbone_bead, particle2=PDAGA_amine_bead)\n",
    "# cyclic amine - alpha carboxyl bond\n",
    "sg.define_bond(bond=generic_bond, particle1=PDAGA_alpha_carboxyl_bead, particle2=PDAGA_amine_bead)\n",
    "# cyclic amine - beta carboxyl bond\n",
    "sg.define_bond(bond=generic_bond, particle1=PDAGA_beta_carboxyl_bead, particle2=PDAGA_amine_bead)\n",
    "\n",
    "sg.add_bonds_to_espresso(espresso_system=espresso_system)\n",
    "\n",
    "# Define the polymer molecule\n",
    "\n",
    "N_monomers=8\n",
    "PDAGA_polymer=sg.molecule(name='PDAGA',residue_list=[PDAGA_monomer_residue]*N_monomers)\n",
    "\n",
    "# Create a PdHa polymer into the espresso system\n",
    "\n",
    "N_pol=1\n",
    "\n",
    "for _ in range(N_pol):\n",
    "    sg.create_sugar_object_in_espresso(sugar_object=PDAGA_polymer, \n",
    "                               espresso_system=espresso_system, \n",
    "                               position=[Box_L.to('reduced_length').magnitude/2]*3) #Create it in the box center \n",
    "\n",
    "picture_name='PDAGA_system.png'\n",
    "sg.do_snapshot_espresso_system(espresso_system=espresso_system, filename=picture_name)\n",
    "\n",
    "# To show the picture\n",
    "from PIL import Image\n",
    "img = Image.open(picture_name)\n",
    "img.show()\n",
    "\n",
    "# To clean-up the system before continuing the tutorial\n",
    "sg.destroy_sugar_object_in_system(sugar_object=PDAGA_polymer, espresso_system=espresso_system)\n"
   ]
  },
  {
   "cell_type": "markdown",
   "metadata": {},
   "source": [
    "In turn, the residues previously defined to build the PDAGA and PDha molecules can be used to build more complex polymers such as a di-block PDha-PDAGA copolymer, as shown in the picture below\n",
    "<img src=\"PDAGA_PDha_diblock_copolymer.png\" width=250 height=250 />"
   ]
  },
  {
   "cell_type": "code",
   "execution_count": 13,
   "metadata": {},
   "outputs": [
    {
     "name": "stdout",
     "output_type": "stream",
     "text": [
      "WARNING, you have already defined a bond between particle1 and particle2\n",
      "The previously defined bond have been overwritten\n"
     ]
    }
   ],
   "source": [
    "# Define the bond between the backnone of PDha and PDAGA\n",
    "\n",
    "# Pdha backbone- PDAGA backbone bond\n",
    "\n",
    "sg.define_bond(bond=generic_bond, particle1=PDha_backbone_bead, particle2=PDAGA_backbone_bead)\n",
    "\n",
    "sg.add_bonds_to_espresso(espresso_system=espresso_system)\n",
    "\n",
    "# Define the diblock polymer molecule\n",
    "\n",
    "N_monomers_PDha=4\n",
    "N_monomers_PDAGA=4\n",
    "diblock_polymer=sg.molecule(name='diblock',\n",
    "                            residue_list=[PDha_residue]*N_monomers_PDha+[PDAGA_monomer_residue]*N_monomers_PDAGA)\n",
    "\n",
    "# Create the diblock polymer into the espresso system\n",
    "\n",
    "N_pol=1\n",
    "\n",
    "for _ in range(N_pol):\n",
    "    sg.create_sugar_object_in_espresso(sugar_object=diblock_polymer, \n",
    "                               espresso_system=espresso_system, \n",
    "                               position=[Box_L.to('reduced_length').magnitude/2]*3) #Create it in the box center \n",
    "\n",
    "picture_name='diblock_system.png'\n",
    "sg.do_snapshot_espresso_system(espresso_system=espresso_system, filename=picture_name)\n",
    "\n",
    "# To show the picture\n",
    "from PIL import Image\n",
    "img = Image.open(picture_name)\n",
    "img.show()\n",
    "\n",
    "# To clean-up the system before continuing the tutorial\n",
    "sg.destroy_sugar_object_in_system(sugar_object=diblock_polymer, espresso_system=espresso_system)\n"
   ]
  },
  {
   "cell_type": "markdown",
   "metadata": {},
   "source": [
    "Similarly, one can set-up an alternating PDha-PDAGA co-polymer, which has the structure depicted below\n",
    "\n",
    "<img src=\"PDAGA_PDha_alt_copolymer.png\" width=250 height=250 />"
   ]
  },
  {
   "cell_type": "code",
   "execution_count": 14,
   "metadata": {},
   "outputs": [],
   "source": [
    "# Define the alternating polymer molecule\n",
    "\n",
    "N_monomers=4\n",
    "alternating_polymer=sg.molecule(name='alternating',\n",
    "                            residue_list=[PDha_residue,PDAGA_monomer_residue]*N_monomers)\n",
    "\n",
    "# Create the diblock polymer into the espresso system\n",
    "\n",
    "N_pol=1\n",
    "\n",
    "for _ in range(N_pol):\n",
    "    sg.create_sugar_object_in_espresso(sugar_object=alternating_polymer, \n",
    "                               espresso_system=espresso_system, \n",
    "                               position=[Box_L.to('reduced_length').magnitude/2]*3) #Create it in the box center \n",
    "\n",
    "picture_name='alternating_system.png'\n",
    "sg.do_snapshot_espresso_system(espresso_system=espresso_system, filename=picture_name)\n",
    "\n",
    "# To show the picture\n",
    "from PIL import Image\n",
    "img = Image.open(picture_name)\n",
    "img.show()\n",
    "\n",
    "# To clean-up the system before continuing the tutorial\n",
    "sg.destroy_sugar_object_in_system(sugar_object=alternating_polymer, espresso_system=espresso_system)"
   ]
  },
  {
   "cell_type": "markdown",
   "metadata": {},
   "source": [
    "### Use Sugar to create peptides <a class=\"anchor\" id=\"peptides\"></a>"
   ]
  },
  {
   "cell_type": "markdown",
   "metadata": {},
   "source": [
    "Sugar includes built-on functions to facilitate the setting up of coarse-grained models for peptides from their aminoacid sequence. At the moment, two different coarse-grained models have been implemented with one bead (`model=1beadAA`) or two beads (`model=2beadAA`) per aminoacid. For the aminoacids currently available, we provide reference parameters in the folder (`reference_parameters`) which can be loaded into Sugar"
   ]
  },
  {
   "cell_type": "code",
   "execution_count": 15,
   "metadata": {},
   "outputs": [],
   "source": [
    "N_peptide=1\n",
    "sequence=\"KKKKKEEEEE\"\n",
    "model='2beadAA'  # Model with 2 beads per each aminoacid\n",
    "\n",
    " # Load peptide parametrization from Lunkad, R. et al.  Molecular Systems Design & Engineering (2021), 6(2), 122-131.\n",
    "\n",
    "sg.load_interaction_parameters(filename='reference_parameters/interaction_parameters/Lunkad2021.txt')\n",
    "sg.add_bonds_to_espresso(espresso_system=espresso_system) # Add the bonds loaded from the file to the espresso system\n",
    "\n",
    "peptide = sg.peptide(name=sequence, sequence=sequence, model=model)\n",
    "\n",
    "for _ in range(N_peptide):\n",
    "    sg.create_sugar_object_in_espresso(sugar_object=peptide, \n",
    "                               espresso_system=espresso_system, \n",
    "                               position=[Box_L.to('reduced_length').magnitude/2]*3) #Create it in the box center \n",
    "    \n",
    "picture_name='peptide_system.png'\n",
    "sg.do_snapshot_espresso_system(espresso_system=espresso_system, filename=picture_name)\n",
    "\n",
    "# To show the picture\n",
    "from PIL import Image\n",
    "img = Image.open(picture_name)\n",
    "img.show()\n",
    "\n",
    "# To clean-up the system before continuing the tutorial\n",
    "sg.destroy_sugar_object_in_system(sugar_object=peptide, espresso_system=espresso_system)"
   ]
  },
  {
   "cell_type": "markdown",
   "metadata": {},
   "source": [
    "Note that in `sequence` we have used the one letter code for the aminoacids. Internally, Sugar uses the one-letter code to define each aminoacid. The three letter code can also be used as input, which Sugar automatically detects and transforms into the one-letter code using its own protein sequence parser."
   ]
  },
  {
   "cell_type": "code",
   "execution_count": 16,
   "metadata": {},
   "outputs": [
    {
     "name": "stdout",
     "output_type": "stream",
     "text": [
      "one letter code ['K', 'K', 'K', 'K', 'K', 'E', 'E', 'E', 'E', 'E']\n",
      "defined peptide sequence  ['K', 'K', 'K', 'K', 'K', 'E', 'E', 'E', 'E', 'E']\n"
     ]
    }
   ],
   "source": [
    "# The same peptide as before, but now using the three letter code for aminoacids\n",
    "\n",
    "sequence='LYS-LYS-LYS-LYS-LYS-GLU-GLU-GLU-GLU-GLU'\n",
    "peptide = sg.peptide(name=sequence, sequence=sequence, model=model)\n",
    "print('one letter code', sg.protein_sequence_parser(sequence=sequence))\n",
    "print('defined peptide sequence ', peptide.sequence)\n"
   ]
  },
  {
   "cell_type": "code",
   "execution_count": null,
   "metadata": {},
   "outputs": [],
   "source": []
  }
 ],
 "metadata": {
  "kernelspec": {
   "display_name": "Python 3",
   "language": "python",
   "name": "python3"
  },
  "language_info": {
   "codemirror_mode": {
    "name": "ipython",
    "version": 3
   },
   "file_extension": ".py",
   "mimetype": "text/x-python",
   "name": "python",
   "nbconvert_exporter": "python",
   "pygments_lexer": "ipython3",
   "version": "3.8.10"
  }
 },
 "nbformat": 4,
 "nbformat_minor": 4
}
