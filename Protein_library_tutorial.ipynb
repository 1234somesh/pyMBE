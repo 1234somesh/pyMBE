{
 "cells": [
  {
   "cell_type": "markdown",
   "metadata": {},
   "source": [
    " # Practical guide on how to use the protein library \n",
    "\n",
    "\n",
    "\n"
   ]
  },
  {
   "cell_type": "markdown",
   "metadata": {},
   "source": [
    "The library relies on the creation of one object per each chemical specie. These objects store the specific parameters of the chemical specie they represent, e.g. radi, pKa, charge, etc. This library provides tools that use these objects to set-up molecular dynamics simulations using Espresso. First, let us load the protein library:\n"
   ]
  },
  {
   "cell_type": "code",
   "execution_count": 1,
   "metadata": {},
   "outputs": [],
   "source": [
    "import protein_library as pl"
   ]
  },
  {
   "cell_type": "markdown",
   "metadata": {},
   "source": [
    "Let us ilustrate this concept with the example of a peptide. A peptide is a macromolecule which is composed by several aminoacids which, in turn, have several chemical groups. In the same way, in this library a peptide object contains several aminoacid objects. In turn, each aminoacid object contains bead objects, whose number depends on the desired model. "
   ]
  },
  {
   "cell_type": "markdown",
   "metadata": {},
   "source": [
    "Practically, to create a peptide object one only needs to provide the aminoacid sequence to the library. The prefered format is a single string using the one-letter aminoacid code of the peptide. The amino and carboxyl ends are denoted as 'c' and 'n' respectively and must be provided in lower case. "
   ]
  },
  {
   "cell_type": "code",
   "execution_count": 2,
   "metadata": {},
   "outputs": [],
   "source": [
    "from protein_library import protein\n",
    "\n",
    "pep_sequence=\"cGHACCFVn\"\n",
    "peptide1 = protein(sequence=pep_sequence)"
   ]
  },
  {
   "cell_type": "markdown",
   "metadata": {},
   "source": [
    "Once the peptide object is created, one can access to its specific information by looping over its sequence\n"
   ]
  },
  {
   "cell_type": "code",
   "execution_count": 3,
   "metadata": {},
   "outputs": [
    {
     "name": "stdout",
     "output_type": "stream",
     "text": [
      "First example:\n",
      "Peptide with  1  beads per aminoacid\n",
      "Aminoacid name \t pKa\n",
      "\t c \t 3.6\n",
      "\t \t Beads name \t radi \t\t charge \t\t\t type\n",
      "\t\t\t c \t 0.5 sigma \t {'neutral': 0, 'charged': -1} \t\t {'neutral': 50, 'charged': 51}\n",
      "Aminoacid name \t pKa\n",
      "\t G \t None\n",
      "\t \t Beads name \t radi \t\t charge \t\t\t type\n",
      "\t\t\t G \t 0.5 sigma \t {'neutral': 0} \t\t {'neutral': 38}\n",
      "Aminoacid name \t pKa\n",
      "\t H \t 6.8\n",
      "\t \t Beads name \t radi \t\t charge \t\t\t type\n",
      "\t\t\t H \t 0.5 sigma \t {'charged': 1, 'neutral': 0} \t\t {'neutral': 24, 'charged': 25}\n",
      "Aminoacid name \t pKa\n",
      "\t A \t None\n",
      "\t \t Beads name \t radi \t\t charge \t\t\t type\n",
      "\t\t\t A \t 0.5 sigma \t {'neutral': 0} \t\t {'neutral': 40}\n",
      "Aminoacid name \t pKa\n",
      "\t C \t 8.3\n",
      "\t \t Beads name \t radi \t\t charge \t\t\t type\n",
      "\t\t\t C \t 0.5 sigma \t {'charged': 1, 'neutral': 0} \t\t {'neutral': 36, 'charged': 37}\n",
      "Aminoacid name \t pKa\n",
      "\t C \t 8.3\n",
      "\t \t Beads name \t radi \t\t charge \t\t\t type\n",
      "\t\t\t C \t 0.5 sigma \t {'charged': 1, 'neutral': 0} \t\t {'neutral': 36, 'charged': 37}\n",
      "Aminoacid name \t pKa\n",
      "\t F \t None\n",
      "\t \t Beads name \t radi \t\t charge \t\t\t type\n",
      "\t\t\t F \t 0.5 sigma \t {'neutral': 0} \t\t {'neutral': 45}\n",
      "Aminoacid name \t pKa\n",
      "\t V \t None\n",
      "\t \t Beads name \t radi \t\t charge \t\t\t type\n",
      "\t\t\t V \t 0.5 sigma \t {'neutral': 0} \t\t {'neutral': 41}\n",
      "Aminoacid name \t pKa\n",
      "\t n \t 8.0\n",
      "\t \t Beads name \t radi \t\t charge \t\t\t type\n",
      "\t\t\t n \t 0.5 sigma \t {'charged': 1, 'neutral': 0} \t\t {'neutral': 48, 'charged': 49}\n"
     ]
    }
   ],
   "source": [
    "def write_protein_parameters(protein):\n",
    "\n",
    "    print(\"Peptide with \", protein.beads_per_monomer, \" beads per aminoacid\")\n",
    "    for aminoacid in protein.sequence:\n",
    "\n",
    "        print(\"Aminoacid name \\t pKa\")\n",
    "        print(\"\\t\", aminoacid.name, \"\\t\", aminoacid.pKa)\n",
    "        print(\"\\t \\t Beads name \\t radi \\t\\t charge \\t\\t\\t type\")\n",
    "        for bead in aminoacid.part:\n",
    "\n",
    "            print(\"\\t\\t\\t\", bead.name, \"\\t\",  bead.radi, \"\\t\", bead.q, \"\\t\\t\", bead.type)\n",
    "\n",
    "print(\"First example:\")\n",
    "write_protein_parameters(peptide1)"
   ]
  },
  {
   "cell_type": "markdown",
   "metadata": {},
   "source": [
    "The library internally works with the one letter aminoacid code. However, the user can also provide the sequence in the three-letter format, separated by hyphens"
   ]
  },
  {
   "cell_type": "code",
   "execution_count": 4,
   "metadata": {},
   "outputs": [
    {
     "name": "stdout",
     "output_type": "stream",
     "text": [
      "Second example:\n",
      "Peptide with  1  beads per aminoacid\n",
      "Aminoacid name \t pKa\n",
      "\t c \t 3.6\n",
      "\t \t Beads name \t radi \t\t charge \t\t\t type\n",
      "\t\t\t c \t 0.5 sigma \t {'neutral': 0, 'charged': -1} \t\t {'neutral': 50, 'charged': 51}\n",
      "Aminoacid name \t pKa\n",
      "\t G \t None\n",
      "\t \t Beads name \t radi \t\t charge \t\t\t type\n",
      "\t\t\t G \t 0.5 sigma \t {'neutral': 0} \t\t {'neutral': 38}\n",
      "Aminoacid name \t pKa\n",
      "\t H \t 6.8\n",
      "\t \t Beads name \t radi \t\t charge \t\t\t type\n",
      "\t\t\t H \t 0.5 sigma \t {'charged': 1, 'neutral': 0} \t\t {'neutral': 24, 'charged': 25}\n",
      "Aminoacid name \t pKa\n",
      "\t A \t None\n",
      "\t \t Beads name \t radi \t\t charge \t\t\t type\n",
      "\t\t\t A \t 0.5 sigma \t {'neutral': 0} \t\t {'neutral': 40}\n",
      "Aminoacid name \t pKa\n",
      "\t C \t 8.3\n",
      "\t \t Beads name \t radi \t\t charge \t\t\t type\n",
      "\t\t\t C \t 0.5 sigma \t {'charged': 1, 'neutral': 0} \t\t {'neutral': 36, 'charged': 37}\n",
      "Aminoacid name \t pKa\n",
      "\t C \t 8.3\n",
      "\t \t Beads name \t radi \t\t charge \t\t\t type\n",
      "\t\t\t C \t 0.5 sigma \t {'charged': 1, 'neutral': 0} \t\t {'neutral': 36, 'charged': 37}\n",
      "Aminoacid name \t pKa\n",
      "\t F \t None\n",
      "\t \t Beads name \t radi \t\t charge \t\t\t type\n",
      "\t\t\t F \t 0.5 sigma \t {'neutral': 0} \t\t {'neutral': 45}\n",
      "Aminoacid name \t pKa\n",
      "\t V \t None\n",
      "\t \t Beads name \t radi \t\t charge \t\t\t type\n",
      "\t\t\t V \t 0.5 sigma \t {'neutral': 0} \t\t {'neutral': 41}\n",
      "Aminoacid name \t pKa\n",
      "\t n \t 8.0\n",
      "\t \t Beads name \t radi \t\t charge \t\t\t type\n",
      "\t\t\t n \t 0.5 sigma \t {'charged': 1, 'neutral': 0} \t\t {'neutral': 48, 'charged': 49}\n"
     ]
    }
   ],
   "source": [
    "three_letter_sequence=\"COOH-GLY-HIS-ALA-CYS-CYS-PHE-VAL-NH2\"\n",
    "\n",
    "peptide2 = protein(sequence=three_letter_sequence)\n",
    "print(\"Second example:\")\n",
    "write_protein_parameters(peptide2)"
   ]
  },
  {
   "cell_type": "markdown",
   "metadata": {},
   "source": [
    "or a mix between both nomenclatures, including lower/upper case  missprints. Note that one needs to be carefull with missprints in \"C\" and \"N\" letters since the lower/upper case have different meaning (e.g. \"c\" = COOH and \"C\" = CYS)"
   ]
  },
  {
   "cell_type": "code",
   "execution_count": 5,
   "metadata": {},
   "outputs": [
    {
     "name": "stdout",
     "output_type": "stream",
     "text": [
      "Third example:\n",
      "Peptide with  1  beads per aminoacid\n",
      "Aminoacid name \t pKa\n",
      "\t c \t 3.6\n",
      "\t \t Beads name \t radi \t\t charge \t\t\t type\n",
      "\t\t\t c \t 0.5 sigma \t {'neutral': 0, 'charged': -1} \t\t {'neutral': 50, 'charged': 51}\n",
      "Aminoacid name \t pKa\n",
      "\t G \t None\n",
      "\t \t Beads name \t radi \t\t charge \t\t\t type\n",
      "\t\t\t G \t 0.5 sigma \t {'neutral': 0} \t\t {'neutral': 38}\n",
      "Aminoacid name \t pKa\n",
      "\t H \t 6.8\n",
      "\t \t Beads name \t radi \t\t charge \t\t\t type\n",
      "\t\t\t H \t 0.5 sigma \t {'charged': 1, 'neutral': 0} \t\t {'neutral': 24, 'charged': 25}\n",
      "Aminoacid name \t pKa\n",
      "\t A \t None\n",
      "\t \t Beads name \t radi \t\t charge \t\t\t type\n",
      "\t\t\t A \t 0.5 sigma \t {'neutral': 0} \t\t {'neutral': 40}\n",
      "Aminoacid name \t pKa\n",
      "\t C \t 8.3\n",
      "\t \t Beads name \t radi \t\t charge \t\t\t type\n",
      "\t\t\t C \t 0.5 sigma \t {'charged': 1, 'neutral': 0} \t\t {'neutral': 36, 'charged': 37}\n",
      "Aminoacid name \t pKa\n",
      "\t C \t 8.3\n",
      "\t \t Beads name \t radi \t\t charge \t\t\t type\n",
      "\t\t\t C \t 0.5 sigma \t {'charged': 1, 'neutral': 0} \t\t {'neutral': 36, 'charged': 37}\n",
      "Aminoacid name \t pKa\n",
      "\t F \t None\n",
      "\t \t Beads name \t radi \t\t charge \t\t\t type\n",
      "\t\t\t F \t 0.5 sigma \t {'neutral': 0} \t\t {'neutral': 45}\n",
      "Aminoacid name \t pKa\n",
      "\t V \t None\n",
      "\t \t Beads name \t radi \t\t charge \t\t\t type\n",
      "\t\t\t V \t 0.5 sigma \t {'neutral': 0} \t\t {'neutral': 41}\n",
      "Aminoacid name \t pKa\n",
      "\t n \t 8.0\n",
      "\t \t Beads name \t radi \t\t charge \t\t\t type\n",
      "\t\t\t n \t 0.5 sigma \t {'charged': 1, 'neutral': 0} \t\t {'neutral': 48, 'charged': 49}\n"
     ]
    }
   ],
   "source": [
    "mix_sequence=[\"COOH\",\"G\",\"HIS\",\"a\", \"Cys\", \"C\", \"f\", \"VAL\", \"n\"]\n",
    "peptide3 = protein(sequence=mix_sequence)\n",
    "print(\"Third example:\")\n",
    "write_protein_parameters(peptide3)"
   ]
  },
  {
   "cell_type": "markdown",
   "metadata": {},
   "source": [
    "The library includes a sequence parser that reads the input sequence and automatically transforms it to the one-letter nomenclature. As a result, examples 1-3 yield to the creation of the same protein object."
   ]
  },
  {
   "cell_type": "markdown",
   "metadata": {},
   "source": [
    "By default, the library assumes that the peptide is modelled as a linear chain with one bead per aminoacid. However, the user can also choose to model the peptide as a chain with side chains, i.e. with two beads per aminoacid."
   ]
  },
  {
   "cell_type": "code",
   "execution_count": 6,
   "metadata": {},
   "outputs": [
    {
     "name": "stdout",
     "output_type": "stream",
     "text": [
      "Example of a peptide with 2 beads per monomer:\n",
      "Peptide with  2  beads per aminoacid\n",
      "Aminoacid name \t pKa\n",
      "\t c \t 3.6\n",
      "\t \t Beads name \t radi \t\t charge \t\t\t type\n",
      "\t\t\t c \t 0.5 sigma \t {'neutral': 0, 'charged': -1} \t\t {'neutral': 50, 'charged': 51}\n",
      "Aminoacid name \t pKa\n",
      "\t G \t None\n",
      "\t \t Beads name \t radi \t\t charge \t\t\t type\n",
      "\t\t\t C_alpha \t 0.5 sigma \t {'neutral': 0} \t\t {'neutral': 20}\n",
      "\t\t\t G \t 0.5 sigma \t {'neutral': 0} \t\t {'neutral': 38}\n",
      "Aminoacid name \t pKa\n",
      "\t H \t 6.8\n",
      "\t \t Beads name \t radi \t\t charge \t\t\t type\n",
      "\t\t\t C_alpha \t 0.5 sigma \t {'neutral': 0} \t\t {'neutral': 20}\n",
      "\t\t\t H \t 0.5 sigma \t {'charged': 1, 'neutral': 0} \t\t {'neutral': 24, 'charged': 25}\n",
      "Aminoacid name \t pKa\n",
      "\t A \t None\n",
      "\t \t Beads name \t radi \t\t charge \t\t\t type\n",
      "\t\t\t C_alpha \t 0.5 sigma \t {'neutral': 0} \t\t {'neutral': 20}\n",
      "\t\t\t A \t 0.5 sigma \t {'neutral': 0} \t\t {'neutral': 40}\n",
      "Aminoacid name \t pKa\n",
      "\t C \t 8.3\n",
      "\t \t Beads name \t radi \t\t charge \t\t\t type\n",
      "\t\t\t C_alpha \t 0.5 sigma \t {'neutral': 0} \t\t {'neutral': 20}\n",
      "\t\t\t C \t 0.5 sigma \t {'charged': 1, 'neutral': 0} \t\t {'neutral': 36, 'charged': 37}\n",
      "Aminoacid name \t pKa\n",
      "\t C \t 8.3\n",
      "\t \t Beads name \t radi \t\t charge \t\t\t type\n",
      "\t\t\t C_alpha \t 0.5 sigma \t {'neutral': 0} \t\t {'neutral': 20}\n",
      "\t\t\t C \t 0.5 sigma \t {'charged': 1, 'neutral': 0} \t\t {'neutral': 36, 'charged': 37}\n",
      "Aminoacid name \t pKa\n",
      "\t F \t None\n",
      "\t \t Beads name \t radi \t\t charge \t\t\t type\n",
      "\t\t\t C_alpha \t 0.5 sigma \t {'neutral': 0} \t\t {'neutral': 20}\n",
      "\t\t\t F \t 0.5 sigma \t {'neutral': 0} \t\t {'neutral': 45}\n",
      "Aminoacid name \t pKa\n",
      "\t V \t None\n",
      "\t \t Beads name \t radi \t\t charge \t\t\t type\n",
      "\t\t\t C_alpha \t 0.5 sigma \t {'neutral': 0} \t\t {'neutral': 20}\n",
      "\t\t\t V \t 0.5 sigma \t {'neutral': 0} \t\t {'neutral': 41}\n",
      "Aminoacid name \t pKa\n",
      "\t n \t 8.0\n",
      "\t \t Beads name \t radi \t\t charge \t\t\t type\n",
      "\t\t\t n \t 0.5 sigma \t {'charged': 1, 'neutral': 0} \t\t {'neutral': 48, 'charged': 49}\n"
     ]
    }
   ],
   "source": [
    "two_bead_peptide=protein(sequence=pep_sequence,  beads_per_monomer=2)\n",
    "print(\"Example of a peptide with 2 beads per monomer:\")\n",
    "write_protein_parameters(two_bead_peptide)"
   ]
  },
  {
   "cell_type": "markdown",
   "metadata": {},
   "source": [
    "Regarding the pKa-values of the aminoacids, the library contains different stablished sets of values that can be loaded using the following keywords: \"hass\" (Ref. 1), \"platzer\" (Ref. 2), \"crchandbook\" (Ref. 3) or \"nozaki\" (Ref. 4). Values for the phosphorilated aminoacids J (pSER) U (pTHR) and Z (pTYR) are always taken from Ref. 5. By default, the library asumes the pKa-values provided in Ref. 1 (Hass et al.). However, the user can choose another set of pKa-values:\n"
   ]
  },
  {
   "cell_type": "code",
   "execution_count": 7,
   "metadata": {},
   "outputs": [
    {
     "name": "stdout",
     "output_type": "stream",
     "text": [
      "Example peptide with pKa-values from the CRC handbook:\n",
      "Peptide with  1  beads per aminoacid\n",
      "Aminoacid name \t pKa\n",
      "\t c \t 3.6\n",
      "\t \t Beads name \t radi \t\t charge \t\t\t type\n",
      "\t\t\t c \t 0.5 sigma \t {'neutral': 0, 'charged': -1} \t\t {'neutral': 50, 'charged': 51}\n",
      "Aminoacid name \t pKa\n",
      "\t G \t None\n",
      "\t \t Beads name \t radi \t\t charge \t\t\t type\n",
      "\t\t\t G \t 0.5 sigma \t {'neutral': 0} \t\t {'neutral': 38}\n",
      "Aminoacid name \t pKa\n",
      "\t H \t 6.0\n",
      "\t \t Beads name \t radi \t\t charge \t\t\t type\n",
      "\t\t\t H \t 0.5 sigma \t {'charged': 1, 'neutral': 0} \t\t {'neutral': 24, 'charged': 25}\n",
      "Aminoacid name \t pKa\n",
      "\t A \t None\n",
      "\t \t Beads name \t radi \t\t charge \t\t\t type\n",
      "\t\t\t A \t 0.5 sigma \t {'neutral': 0} \t\t {'neutral': 40}\n",
      "Aminoacid name \t pKa\n",
      "\t C \t 8.18\n",
      "\t \t Beads name \t radi \t\t charge \t\t\t type\n",
      "\t\t\t C \t 0.5 sigma \t {'charged': 1, 'neutral': 0} \t\t {'neutral': 36, 'charged': 37}\n",
      "Aminoacid name \t pKa\n",
      "\t C \t 8.18\n",
      "\t \t Beads name \t radi \t\t charge \t\t\t type\n",
      "\t\t\t C \t 0.5 sigma \t {'charged': 1, 'neutral': 0} \t\t {'neutral': 36, 'charged': 37}\n",
      "Aminoacid name \t pKa\n",
      "\t F \t None\n",
      "\t \t Beads name \t radi \t\t charge \t\t\t type\n",
      "\t\t\t F \t 0.5 sigma \t {'neutral': 0} \t\t {'neutral': 45}\n",
      "Aminoacid name \t pKa\n",
      "\t V \t None\n",
      "\t \t Beads name \t radi \t\t charge \t\t\t type\n",
      "\t\t\t V \t 0.5 sigma \t {'neutral': 0} \t\t {'neutral': 41}\n",
      "Aminoacid name \t pKa\n",
      "\t n \t 8.0\n",
      "\t \t Beads name \t radi \t\t charge \t\t\t type\n",
      "\t\t\t n \t 0.5 sigma \t {'charged': 1, 'neutral': 0} \t\t {'neutral': 48, 'charged': 49}\n",
      "\n"
     ]
    }
   ],
   "source": [
    "pKacrc_peptide=protein(sequence=pep_sequence,  pKa_set=\"crchandbook\")\n",
    "print(\"Example peptide with pKa-values from the CRC handbook:\")\n",
    "write_protein_parameters(pKacrc_peptide)\n",
    "print()"
   ]
  },
  {
   "cell_type": "markdown",
   "metadata": {},
   "source": [
    "Alternatively, the user can provide custom pKa-values for all or some of the aminoacids. The custom pKa-values must be provided in a dictionary:\n"
   ]
  },
  {
   "cell_type": "code",
   "execution_count": 8,
   "metadata": {},
   "outputs": [
    {
     "name": "stdout",
     "output_type": "stream",
     "text": [
      "Example peptide with custom pKa-values:\n",
      "Peptide with  1  beads per aminoacid\n",
      "Aminoacid name \t pKa\n",
      "\t c \t 4.25\n",
      "\t \t Beads name \t radi \t\t charge \t\t\t type\n",
      "\t\t\t c \t 0.5 sigma \t {'neutral': 0, 'charged': -1} \t\t {'neutral': 50, 'charged': 51}\n",
      "Aminoacid name \t pKa\n",
      "\t G \t None\n",
      "\t \t Beads name \t radi \t\t charge \t\t\t type\n",
      "\t\t\t G \t 0.5 sigma \t {'neutral': 0} \t\t {'neutral': 38}\n",
      "Aminoacid name \t pKa\n",
      "\t H \t 6.8\n",
      "\t \t Beads name \t radi \t\t charge \t\t\t type\n",
      "\t\t\t H \t 0.5 sigma \t {'charged': 1, 'neutral': 0} \t\t {'neutral': 24, 'charged': 25}\n",
      "Aminoacid name \t pKa\n",
      "\t A \t None\n",
      "\t \t Beads name \t radi \t\t charge \t\t\t type\n",
      "\t\t\t A \t 0.5 sigma \t {'neutral': 0} \t\t {'neutral': 40}\n",
      "Aminoacid name \t pKa\n",
      "\t C \t 8.3999\n",
      "\t \t Beads name \t radi \t\t charge \t\t\t type\n",
      "\t\t\t C \t 0.5 sigma \t {'charged': 1, 'neutral': 0} \t\t {'neutral': 36, 'charged': 37}\n",
      "Aminoacid name \t pKa\n",
      "\t C \t 8.3999\n",
      "\t \t Beads name \t radi \t\t charge \t\t\t type\n",
      "\t\t\t C \t 0.5 sigma \t {'charged': 1, 'neutral': 0} \t\t {'neutral': 36, 'charged': 37}\n",
      "Aminoacid name \t pKa\n",
      "\t F \t None\n",
      "\t \t Beads name \t radi \t\t charge \t\t\t type\n",
      "\t\t\t F \t 0.5 sigma \t {'neutral': 0} \t\t {'neutral': 45}\n",
      "Aminoacid name \t pKa\n",
      "\t V \t None\n",
      "\t \t Beads name \t radi \t\t charge \t\t\t type\n",
      "\t\t\t V \t 0.5 sigma \t {'neutral': 0} \t\t {'neutral': 41}\n",
      "Aminoacid name \t pKa\n",
      "\t n \t 8.0\n",
      "\t \t Beads name \t radi \t\t charge \t\t\t type\n",
      "\t\t\t n \t 0.5 sigma \t {'charged': 1, 'neutral': 0} \t\t {'neutral': 48, 'charged': 49}\n"
     ]
    }
   ],
   "source": [
    "dict_pKa={\"c\": 4.25, \"CYS\": 8.3999}\n",
    "\n",
    "custom_peptide=protein(sequence=pep_sequence,  pKa_set=\"custom\", pKa_custom=dict_pKa)\n",
    "print(\"Example peptide with custom pKa-values:\")\n",
    "write_protein_parameters(custom_peptide)"
   ]
  },
  {
   "cell_type": "markdown",
   "metadata": {},
   "source": [
    " The pKa-values not specified by the user are assumed to be equal to those provided in Ref. 1 (Hass et al.)."
   ]
  },
  {
   "cell_type": "markdown",
   "metadata": {},
   "source": [
    "Once the user creates the peptide object with the desired properties, the library contains several useful modules that help the user to set-up a constant pH simulation of such peptide with Espresso. For instance, let us consider the case that you want to simulate two peptide chains of sequence \"cGHACCFVn\" using the two bead model and the default pKa-values. "
   ]
  },
  {
   "cell_type": "code",
   "execution_count": 9,
   "metadata": {},
   "outputs": [],
   "source": [
    "peptide=protein(sequence=pep_sequence,  beads_per_monomer=2)\n",
    "peptide.N=2 # Number of protein chains desired in our system, by default 1. \n",
    "\n",
    "import espressomd\n",
    "\n",
    "system = espressomd.System(box_l=[len(peptide.sequence)*3] * 3) # Instance of the espresso simulation sistem"
   ]
  },
  {
   "cell_type": "markdown",
   "metadata": {},
   "source": [
    "The library can be used to directly create the peptide into the espresso system.  The user if the initial state of the titrable aminoacid is \"neutral\" or \"charged\", by default the neutral case is considered."
   ]
  },
  {
   "cell_type": "code",
   "execution_count": 10,
   "metadata": {},
   "outputs": [],
   "source": [
    "pl.create_protein(system, peptide, initial_state='charged')"
   ]
  },
  {
   "cell_type": "markdown",
   "metadata": {},
   "source": [
    "The ids  of all the particles created in the system are stored in the peptide object and its sub-objects. Ids belonging to different peptide chains are stored in separated lists."
   ]
  },
  {
   "cell_type": "code",
   "execution_count": 11,
   "metadata": {},
   "outputs": [
    {
     "name": "stdout",
     "output_type": "stream",
     "text": [
      "Ids of the peptide chains:\n",
      "[[1, 2, 3, 4, 5, 6, 7, 8, 9, 10, 11, 12, 13, 14, 15, 16], [17, 18, 19, 20, 21, 22, 23, 24, 25, 26, 27, 28, 29, 30, 31, 32]]\n",
      "\n",
      "Ids of each aminoacid\n",
      "c  ids:  [[1], [17]]\n",
      "bead  c  ids:  [[1], [17]] state  charged charge:  -1\n",
      "G  ids:  [[2, 3], [18, 19]]\n",
      "bead  C_alpha  ids:  [[2], [18]] state  neutral charge:  0\n",
      "bead  G  ids:  [[3], [19]] state  neutral charge:  0\n",
      "H  ids:  [[4, 5], [20, 21]]\n",
      "bead  C_alpha  ids:  [[4], [20]] state  neutral charge:  0\n",
      "bead  H  ids:  [[5], [21]] state  charged charge:  1\n",
      "A  ids:  [[6, 7], [22, 23]]\n",
      "bead  C_alpha  ids:  [[6], [22]] state  neutral charge:  0\n",
      "bead  A  ids:  [[7], [23]] state  neutral charge:  0\n",
      "C  ids:  [[8, 9], [24, 25]]\n",
      "bead  C_alpha  ids:  [[8], [24]] state  neutral charge:  0\n",
      "bead  C  ids:  [[9], [25]] state  charged charge:  1\n",
      "C  ids:  [[10, 11], [26, 27]]\n",
      "bead  C_alpha  ids:  [[10], [26]] state  neutral charge:  0\n",
      "bead  C  ids:  [[11], [27]] state  charged charge:  1\n",
      "F  ids:  [[12, 13], [28, 29]]\n",
      "bead  C_alpha  ids:  [[12], [28]] state  neutral charge:  0\n",
      "bead  F  ids:  [[13], [29]] state  neutral charge:  0\n",
      "V  ids:  [[14, 15], [30, 31]]\n",
      "bead  C_alpha  ids:  [[14], [30]] state  neutral charge:  0\n",
      "bead  V  ids:  [[15], [31]] state  neutral charge:  0\n",
      "n  ids:  [[16], [32]]\n",
      "bead  n  ids:  [[16], [32]] state  charged charge:  1\n"
     ]
    }
   ],
   "source": [
    "print(\"Ids of the peptide chains:\")\n",
    "print(peptide.ids)\n",
    "print()\n",
    "print(\"Ids of each aminoacid\")\n",
    "\n",
    "for aminoacid in peptide.sequence:\n",
    "\n",
    "    print(aminoacid.name, \" ids: \", aminoacid.ids)\n",
    "    for bead in aminoacid.part:\n",
    "        print(\"bead \", bead.name, \" ids: \", bead.ids, \"state \", bead.state, \"charge: \", bead.q[bead.state])"
   ]
  },
  {
   "cell_type": "markdown",
   "metadata": {},
   "source": [
    "The user can also create counter ions particles of the peptide chains using the module provided in this library\n"
   ]
  },
  {
   "cell_type": "code",
   "execution_count": 12,
   "metadata": {},
   "outputs": [],
   "source": [
    "cation, anion = pl.create_counterions(system,peptide)"
   ]
  },
  {
   "cell_type": "markdown",
   "metadata": {},
   "source": [
    "which returns particle objects containing all the information of the counter-ions generated"
   ]
  },
  {
   "cell_type": "code",
   "execution_count": 13,
   "metadata": {},
   "outputs": [
    {
     "name": "stdout",
     "output_type": "stream",
     "text": [
      "Cation info: charge =  1  number of particles=  2  type =  18  ids :  [33, 34]\n",
      "anion info: charge =  -1  number of particles=  8  type =  19  ids :  [35, 36, 37, 38, 39, 40, 41, 42]\n"
     ]
    }
   ],
   "source": [
    "print(\"Cation info: charge = \", cation.q, \" number of particles= \", cation.N , \" type = \", cation.type, \" ids : \", cation.ids)\n",
    "print(\"anion info: charge = \", anion.q, \" number of particles= \", anion.N , \" type = \", anion.type, \" ids : \", anion.ids)"
   ]
  },
  {
   "cell_type": "markdown",
   "metadata": {},
   "source": [
    "The library can be used to quickly set-up all the acid/base reactions present in the peptide"
   ]
  },
  {
   "cell_type": "code",
   "execution_count": 14,
   "metadata": {},
   "outputs": [],
   "source": [
    "from espressomd import reaction_ensemble\n",
    "\n",
    "RE = reaction_ensemble.ConstantpHEnsemble(temperature=1, exclusion_radius=1, seed=12345)\n",
    "pl.setup_protein_acidbase_reactions(RE, peptide, cation)\n"
   ]
  },
  {
   "cell_type": "markdown",
   "metadata": {},
   "source": [
    "The library can also be used to calculate the total number of acidic/basic groups in peptide chains,"
   ]
  },
  {
   "cell_type": "code",
   "execution_count": 15,
   "metadata": {},
   "outputs": [
    {
     "name": "stdout",
     "output_type": "stream",
     "text": [
      "Number of titrable groups in peptide chains:  10\n"
     ]
    }
   ],
   "source": [
    "N_titrable_groups=pl.count_titrable_groups(peptide)\n",
    "print(\"Number of titrable groups in peptide chains: \", N_titrable_groups)"
   ]
  },
  {
   "cell_type": "markdown",
   "metadata": {},
   "source": [
    "and to set-up espresso to track in which state are the ionizable groups during the simulation"
   ]
  },
  {
   "cell_type": "code",
   "execution_count": 16,
   "metadata": {},
   "outputs": [],
   "source": [
    "pl.track_ionization(system, peptide)"
   ]
  },
  {
   "cell_type": "markdown",
   "metadata": {},
   "source": [
    "At this stage, the system is ready to run a simulation with Espresso. Here, we ilustrate its use for a set of simulation done for pH values ranging from 2 to 12"
   ]
  },
  {
   "cell_type": "code",
   "execution_count": 17,
   "metadata": {},
   "outputs": [
    {
     "name": "stdout",
     "output_type": "stream",
     "text": [
      "pH =      2 done\n",
      "pH =  2.526 done\n",
      "pH =  3.053 done\n",
      "pH =  3.579 done\n",
      "pH =  4.105 done\n",
      "pH =  4.632 done\n",
      "pH =  5.158 done\n",
      "pH =  5.684 done\n",
      "pH =  6.211 done\n",
      "pH =  6.737 done\n",
      "pH =  7.263 done\n",
      "pH =  7.789 done\n",
      "pH =  8.316 done\n",
      "pH =  8.842 done\n",
      "pH =  9.368 done\n",
      "pH =  9.895 done\n",
      "pH =  10.42 done\n",
      "pH =  10.95 done\n",
      "pH =  11.47 done\n",
      "pH =     12 done\n"
     ]
    }
   ],
   "source": [
    "import numpy as np\n",
    "\n",
    "pH = np.linspace(2, 12, num=20)\n",
    "Steps_per_sim= 1000\n",
    "steps_eq=int(Steps_per_sim/3)\n",
    "Z_pH=[] # Average charge list\n",
    "\n",
    "# The trajectories of the simulations will be stored in separed files for latter visualizaation using espresso built-up functions and stored in folder 'frames'\n",
    "\n",
    "from espressomd.io.writer import vtf\n",
    "import os\n",
    "\n",
    "if not os.path.exists('./frames'):\n",
    "    os.makedirs('./frames')\n",
    "\n",
    "# Write the initial state\n",
    "\n",
    "with open('frames/trajectory0.vtf', mode='w+t') as coordinates:\n",
    "    vtf.writevsf(system, coordinates)\n",
    "    vtf.writevcf(system, coordinates)\n",
    "\n",
    "N_steps_print= 100  # Write the trajectory every 100 simulation steps\n",
    "N_frame=0\n",
    "\n",
    "for pH_value in pH:\n",
    "\n",
    "    Z_sim=[]\n",
    "    RE.constant_pH = pH_value\n",
    "\n",
    "    for step in range(Steps_per_sim+steps_eq):\n",
    "\n",
    "        RE.reaction(N_titrable_groups)\n",
    "\n",
    "        if ( step > steps_eq):\n",
    "\n",
    "            Z, Z2=pl.calculate_protein_charge(system,peptide)\n",
    "            Z_sim.append(Z)\n",
    "\n",
    "        if (step % N_steps_print == 0) :\n",
    "\n",
    "            N_frame+=1\n",
    "            with open('frames/trajectory'+str(N_frame)+'.vtf', mode='w+t') as coordinates:\n",
    "                vtf.writevsf(system, coordinates)\n",
    "                vtf.writevcf(system, coordinates)\n",
    "\n",
    "    Z_sim=np.array(Z_sim)\n",
    "    Z_pH.append(Z_sim.mean())\n",
    "    print(\"pH = {:6.4g} done\".format(pH_value))"
   ]
  },
  {
   "cell_type": "markdown",
   "metadata": {},
   "source": [
    "The results of the simulation should be compared with the Henderson-Hasselbach analytical prediction for an ideal system. The library also provides a module that computes the ideal peptide charge predicted by  Henderson-Hasselbach theory for a given set of pH values:"
   ]
  },
  {
   "cell_type": "code",
   "execution_count": 18,
   "metadata": {},
   "outputs": [
    {
     "data": {
      "image/png": "[encoded data removed]",
      "text/plain": [
       "<Figure size 720x504 with 1 Axes>"
      ]
     },
     "metadata": {
      "needs_background": "light"
     },
     "output_type": "display_data"
    }
   ],
   "source": [
    "Z_HH = pl.calculate_HH(pH, peptide)\n",
    "\n",
    "import matplotlib.pyplot as plt\n",
    "\n",
    "fig, ax = plt.subplots(figsize=(10, 7))\n",
    "ax.plot(pH, Z_pH, \"ro\", label='Simulation-ideal')\n",
    "ax.plot(pH, Z_HH, \"-k\", label='Henderson-Hasselbach')\n",
    "plt.legend()\n",
    "plt.xlabel('pH')\n",
    "plt.ylabel('Charge of the peptide / e')\n",
    "plt.title('Peptide sequence: '+ pep_sequence)\n",
    "plt.show()\n"
   ]
  },
  {
   "cell_type": "markdown",
   "metadata": {},
   "source": [
    "References\n",
    "\n",
    "[1] Hass MA, Mulder FAA. Contemporary NMR Studies of Protein Electrostatics. Annu Rev Biophys. 2015;44:53-75.\n",
    "\n",
    "[2] Platzer G, Okon M, McIntosh LP. 2014. pH-dependent random coil 1 H, 13 C, and 15 N chemical shifts of the ionizable amino acids: a guide for protein pK a measurements. J. Biomol. NMR 60:109–29\n",
    "\n",
    "[3] Handbook of Chemistry and Physics, 72nd Edition, CRC Press, Boca Raton, FL, 1991.\n",
    "\n",
    "[4] Y. Nozaki and C. Tanford, Methods Enzymol., 1967, 11, 715–734.\n",
    "\n",
    "[5] Bienkiewicz & K.J. Lumb, J Biomol NMR 15: 203-206 (1999).\n",
    "\n"
   ]
  },
  {
   "cell_type": "code",
   "execution_count": null,
   "metadata": {},
   "outputs": [],
   "source": []
  }
 ],
 "metadata": {
  "kernelspec": {
   "display_name": "Python 3",
   "language": "python",
   "name": "python3"
  },
  "language_info": {
   "codemirror_mode": {
    "name": "ipython",
    "version": 3
   },
   "file_extension": ".py",
   "mimetype": "text/x-python",
   "name": "python",
   "nbconvert_exporter": "python",
   "pygments_lexer": "ipython3",
   "version": "3.8.5"
  }
 },
 "nbformat": 4,
 "nbformat_minor": 4
}
